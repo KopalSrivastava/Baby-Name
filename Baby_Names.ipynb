{
 "cells": [
  {
   "cell_type": "markdown",
   "metadata": {},
   "source": [
    "# Analyzing Baby Names"
   ]
  },
  {
   "cell_type": "code",
   "execution_count": null,
   "metadata": {},
   "outputs": [],
   "source": [
    "import pandas as pd\n",
    "from matplotlib.pylab import plt \n",
    "%matplotlib inline\n",
    "import numpy as np\n",
    "from random import sample"
   ]
  },
  {
   "cell_type": "markdown",
   "metadata": {},
   "source": [
    "# Read and Write data"
   ]
  },
  {
   "cell_type": "markdown",
   "metadata": {},
   "source": [
    "### Read the file yob2000.txt "
   ]
  },
  {
   "cell_type": "code",
   "execution_count": null,
   "metadata": {},
   "outputs": [],
   "source": [
    "df_2000 = pd.read_csv('yob2000.txt' , names=['name', 'gender', 'births'])\n",
    "df_2000"
   ]
  },
  {
   "cell_type": "markdown",
   "metadata": {},
   "source": [
    "### Print the first 10 entries"
   ]
  },
  {
   "cell_type": "code",
   "execution_count": null,
   "metadata": {},
   "outputs": [],
   "source": [
    "first_10=df_2000.head(10)\n",
    "first_10"
   ]
  },
  {
   "cell_type": "markdown",
   "metadata": {},
   "source": [
    "### Write the data to a different file"
   ]
  },
  {
   "cell_type": "code",
   "execution_count": null,
   "metadata": {},
   "outputs": [],
   "source": [
    "df_write=first_10.to_csv('df_2000_first_10.txt')"
   ]
  },
  {
   "cell_type": "markdown",
   "metadata": {},
   "source": [
    "# Calculate the total births"
   ]
  },
  {
   "cell_type": "markdown",
   "metadata": {},
   "source": [
    "### Calculate the sum of the birth count column in the file yob2000.txt"
   ]
  },
  {
   "cell_type": "code",
   "execution_count": null,
   "metadata": {},
   "outputs": [],
   "source": [
    "total_births = df_2000['births'].sum()\n",
    "total_births"
   ]
  },
  {
   "cell_type": "markdown",
   "metadata": {},
   "source": [
    "# Separate boys / girls"
   ]
  },
  {
   "cell_type": "markdown",
   "metadata": {},
   "source": [
    "### Calculate separate sums for boys and girls"
   ]
  },
  {
   "cell_type": "code",
   "execution_count": null,
   "metadata": {},
   "outputs": [],
   "source": [
    "boys_girls = df_2000.groupby('gender').sum()\n",
    "boys_girls"
   ]
  },
  {
   "cell_type": "markdown",
   "metadata": {},
   "source": [
    "### Plot both sums in a bar plot"
   ]
  },
  {
   "cell_type": "code",
   "execution_count": null,
   "metadata": {},
   "outputs": [],
   "source": [
    "boys_girls.plot.bar()"
   ]
  },
  {
   "cell_type": "markdown",
   "metadata": {},
   "source": [
    "# Frequent names"
   ]
  },
  {
   "cell_type": "markdown",
   "metadata": {},
   "source": [
    "### Count how many names occur at least 1000 times in the file yob2000.txt"
   ]
  },
  {
   "cell_type": "code",
   "execution_count": null,
   "metadata": {},
   "outputs": [],
   "source": [
    "df_2000[df_2000['births'] >= 1000].count()"
   ]
  },
  {
   "cell_type": "markdown",
   "metadata": {},
   "source": [
    "# Relative amount"
   ]
  },
  {
   "cell_type": "markdown",
   "metadata": {},
   "source": [
    "### Create a new column containing the percentage of a name on the total births of a given year"
   ]
  },
  {
   "cell_type": "code",
   "execution_count": null,
   "metadata": {},
   "outputs": [],
   "source": [
    "temp = df_2000['births']/total_births\n",
    "df_2000['percentage'] = temp*100\n",
    "df_2000"
   ]
  },
  {
   "cell_type": "markdown",
   "metadata": {},
   "source": [
    "### Verify that the sum of percentages is 100%."
   ]
  },
  {
   "cell_type": "code",
   "execution_count": null,
   "metadata": {},
   "outputs": [],
   "source": [
    "df_2000['percentage'].sum()"
   ]
  },
  {
   "cell_type": "markdown",
   "metadata": {},
   "source": [
    "### Calculate the percentage of the top 10 names on all births"
   ]
  },
  {
   "cell_type": "code",
   "execution_count": null,
   "metadata": {},
   "outputs": [],
   "source": [
    "top_10 = df_2000.sort_values(by='percentage', ascending=False)\n",
    "top_10.head(10).births.sum()"
   ]
  },
  {
   "cell_type": "markdown",
   "metadata": {},
   "source": [
    "# Search your name"
   ]
  },
  {
   "cell_type": "markdown",
   "metadata": {},
   "source": [
    "### Identify and print all lines containing your name in the year 2000"
   ]
  },
  {
   "cell_type": "code",
   "execution_count": null,
   "metadata": {},
   "outputs": [],
   "source": [
    "name_search = df_2000.set_index('name')\n",
    "name_search.loc['Mary']"
   ]
  },
  {
   "cell_type": "markdown",
   "metadata": {},
   "source": [
    "# Bar plot"
   ]
  },
  {
   "cell_type": "markdown",
   "metadata": {},
   "source": [
    "### Create a bar plot showing 5 selected names for the year 2000"
   ]
  },
  {
   "cell_type": "code",
   "execution_count": null,
   "metadata": {},
   "outputs": [],
   "source": [
    "name_plot = df_2000.sample(n=5)\n",
    "plot_5 = name_plot.plot.bar(x='name', y='births')\n",
    "plot_5"
   ]
  },
  {
   "cell_type": "markdown",
   "metadata": {},
   "source": [
    "# Read all names"
   ]
  },
  {
   "cell_type": "markdown",
   "metadata": {},
   "source": [
    "### To read the complete dataset, we need to loop though all file names"
   ]
  },
  {
   "cell_type": "code",
   "execution_count": null,
   "metadata": {},
   "outputs": [],
   "source": [
    "years = range(1880,2017)\n",
    "data = []\n",
    "columns = ['name', 'gender', 'births']\n",
    "\n",
    "for y in years:\n",
    "    fn = 'yob' + str(y) + '.txt'\n",
    "    df = pd.read_csv(fn, names=columns)\n",
    "    df['years'] = y\n",
    "    data.append(df)\n",
    "df = pd.concat(data)\n",
    "df"
   ]
  },
  {
   "cell_type": "markdown",
   "metadata": {},
   "source": [
    "# Plot a time series"
   ]
  },
  {
   "cell_type": "markdown",
   "metadata": {},
   "source": [
    "### Extract all rows containing your name from the variable df"
   ]
  },
  {
   "cell_type": "code",
   "execution_count": null,
   "metadata": {},
   "outputs": [],
   "source": [
    "my_name = df.set_index('name')\n",
    "\n",
    "search_mary = my_name.loc['Mary']\n",
    "search_mary"
   ]
  },
  {
   "cell_type": "markdown",
   "metadata": {},
   "source": [
    "### Plot the number of babies having your name and gender over time\n",
    "### Make the plot nicer by adding row/column labels and a title\n",
    "### Change the color and thickness of the line"
   ]
  },
  {
   "cell_type": "code",
   "execution_count": null,
   "metadata": {},
   "outputs": [],
   "source": [
    "male_mary = search_mary.set_index('gender').loc['M']\n",
    "male_mary.columns = ['Male', 'Year']\n",
    "\n",
    "female_mary = search_mary.set_index('gender').loc['F']\n",
    "female_mary.columns = ['Female','Year']\n",
    "\n",
    "all_mary = pd.merge(male_mary, female_mary, on='Year')\n",
    "\n",
    "ax = plt.gca()\n",
    "\n",
    "all_mary.plot(kind = 'line', x='Year', y='Male', ax=ax, lw=4, color = 'blue')\n",
    "all_mary.plot(kind = 'line', x='Year', y='Female', secondary_y=True, ax=ax, color = 'red')\n",
    "\n",
    "plt.title('Mary 1880-2017')"
   ]
  },
  {
   "cell_type": "markdown",
   "metadata": {},
   "source": [
    "### Save the plot as a high-resolution diagram"
   ]
  },
  {
   "cell_type": "code",
   "execution_count": null,
   "metadata": {},
   "outputs": [],
   "source": [
    "plt.savefig('Mary.png', dpi=1200)"
   ]
  },
  {
   "cell_type": "markdown",
   "metadata": {},
   "source": [
    "# Celebrities"
   ]
  },
  {
   "cell_type": "markdown",
   "metadata": {},
   "source": [
    "### Plot time lines of names of celebrities\n",
    "### Try actors, presidents, princesses, Star Wars, GoT, motorcycles, boot camp participants … "
   ]
  },
  {
   "cell_type": "code",
   "execution_count": null,
   "metadata": {},
   "outputs": [],
   "source": [
    "celeb_name = df.set_index('name')\n",
    "\n",
    "celebrity = celeb_name.loc['Cristiano']\n",
    "cristiano = celebrity.rename(columns={ 'births' : 'Births', 'years' : 'Year'})\n",
    "\n",
    "ax=plt.gca()\n",
    "\n",
    "cristiano.plot(kind = 'line', x='Year', y='Births', ax=ax)\n",
    "plt.title('Cristiano')"
   ]
  },
  {
   "cell_type": "markdown",
   "metadata": {},
   "source": [
    "# Normalize"
   ]
  },
  {
   "cell_type": "markdown",
   "metadata": {},
   "source": [
    "### Divide the number of births by the total number of births in that year to obtain the relative frequency"
   ]
  },
  {
   "cell_type": "code",
   "execution_count": null,
   "metadata": {},
   "outputs": [],
   "source": [
    "lookup_table = df.groupby('years').births.sum()\n",
    "lookup_table = lookup_table.reset_index()\n",
    "df_new = pd.merge(lookup_table,df, on='years')\n",
    "df_new['relative_frequency'] = df_new['births_y']/df_new['births_x']"
   ]
  },
  {
   "cell_type": "markdown",
   "metadata": {},
   "source": [
    "### Plot the time series of your name or the celebrity names again"
   ]
  },
  {
   "cell_type": "code",
   "execution_count": null,
   "metadata": {},
   "outputs": [],
   "source": [
    "new_celeb_name = df_new.set_index('name')\n",
    "\n",
    "celebrity = new_celeb_name.loc['Cristiano']\n",
    "\n",
    "ax = plt.gca()\n",
    "\n",
    "celebrity.plot(kind = 'bar', x='years', y='relative_frequency', ax=ax)\n",
    "plt.title('Cristiano_Relative_Frequency')"
   ]
  },
  {
   "cell_type": "markdown",
   "metadata": {},
   "source": [
    "# Name diversity"
   ]
  },
  {
   "cell_type": "markdown",
   "metadata": {},
   "source": [
    "### Have the baby names become more diverse over time?"
   ]
  },
  {
   "cell_type": "code",
   "execution_count": null,
   "metadata": {},
   "outputs": [],
   "source": [
    "diversity = df.groupby('years').name.count()\n",
    "diversity.plot.line()"
   ]
  },
  {
   "cell_type": "markdown",
   "metadata": {},
   "source": [
    "# Long names"
   ]
  },
  {
   "cell_type": "markdown",
   "metadata": {},
   "source": [
    "### Add an extra column that contains the length of the name"
   ]
  },
  {
   "cell_type": "code",
   "execution_count": null,
   "metadata": {},
   "outputs": [],
   "source": [
    "df['Name_length'] = df['name'].apply(len)"
   ]
  },
  {
   "cell_type": "markdown",
   "metadata": {},
   "source": [
    "### Print the 10 longest names to the screen"
   ]
  },
  {
   "cell_type": "code",
   "execution_count": null,
   "metadata": {},
   "outputs": [],
   "source": [
    "longest_10 = df.sort_values(by='Name_length', ascending=False)\n",
    "longest_10.head(10)"
   ]
  },
  {
   "cell_type": "markdown",
   "metadata": {},
   "source": [
    "# First letter statistics"
   ]
  },
  {
   "cell_type": "markdown",
   "metadata": {},
   "source": [
    "### Add an extra column that contains the first letter of the name"
   ]
  },
  {
   "cell_type": "code",
   "execution_count": null,
   "metadata": {},
   "outputs": [],
   "source": [
    "df['first_letter'] = df['name'].apply(lambda x: x[0])"
   ]
  },
  {
   "cell_type": "markdown",
   "metadata": {},
   "source": [
    "### Count how many names start with ‘A’"
   ]
  },
  {
   "cell_type": "code",
   "execution_count": null,
   "metadata": {},
   "outputs": [],
   "source": [
    "new_count = df.set_index('first_letter')\n",
    "count_A = new_count.loc['A']\n",
    "count_A"
   ]
  },
  {
   "cell_type": "markdown",
   "metadata": {},
   "source": [
    "### Plot the relative occurence of initials over time"
   ]
  },
  {
   "cell_type": "code",
   "execution_count": null,
   "metadata": {},
   "outputs": [],
   "source": [
    "ax=plt.gca()\n",
    "\n",
    "count_A.plot(kind = 'line', x='years', y='births', ax=ax)\n",
    "plt.title('First Occurance of A')"
   ]
  },
  {
   "cell_type": "markdown",
   "metadata": {},
   "source": [
    "# Last letter statistics"
   ]
  },
  {
   "cell_type": "markdown",
   "metadata": {},
   "source": [
    "### Add an extra column that contains the last letter of the name"
   ]
  },
  {
   "cell_type": "code",
   "execution_count": null,
   "metadata": {},
   "outputs": [],
   "source": [
    "df['last_letter']=df['name'].apply(lambda x: x[-1])"
   ]
  },
  {
   "cell_type": "markdown",
   "metadata": {},
   "source": [
    "### Count how many names end with ‘A’"
   ]
  },
  {
   "cell_type": "code",
   "execution_count": null,
   "metadata": {},
   "outputs": [],
   "source": [
    "new_count_last = df.set_index('last_letter')\n",
    "count_A_last = new_count_last.loc['a']\n",
    "count_A_last.count()"
   ]
  },
  {
   "cell_type": "markdown",
   "metadata": {},
   "source": [
    "### Plot the relative occurence of initials over time"
   ]
  },
  {
   "cell_type": "code",
   "execution_count": null,
   "metadata": {},
   "outputs": [],
   "source": [
    "ax=plt.gca()\n",
    "\n",
    "count_A_last.plot(kind = 'line', x='years', y='births', ax=ax)\n",
    "plt.title('Last Occurance of A')"
   ]
  },
  {
   "cell_type": "markdown",
   "metadata": {},
   "source": [
    "### Separate by boys/girls"
   ]
  },
  {
   "cell_type": "code",
   "execution_count": null,
   "metadata": {},
   "outputs": [],
   "source": [
    "ax=plt.gca()\n",
    "\n",
    "no_of_males = count_A_last.set_index('gender').loc['M']\n",
    "no_of_females = count_A_last.set_index('gender').loc['F']\n",
    "\n",
    "no_of_males.plot(kind = 'line', x='years', y='births', ax=ax, color = 'black')\n",
    "no_of_females.plot(kind = 'line', x='years', y='births', ax=ax)"
   ]
  },
  {
   "cell_type": "markdown",
   "metadata": {},
   "source": [
    "# e-rich Names"
   ]
  },
  {
   "cell_type": "markdown",
   "metadata": {},
   "source": [
    "### Find all names that contain the character ‘e’ at least four times."
   ]
  },
  {
   "cell_type": "code",
   "execution_count": null,
   "metadata": {},
   "outputs": [],
   "source": [
    "df['e_count'] = df['name'].str.count('e')\n",
    "\n",
    "most_e = df.sort_values(by='e_count', ascending=False)\n",
    "e_name = df[df['e_count'] >= 4]\n",
    "\n",
    "e_name.count()\n",
    "e_name"
   ]
  }
 ],
 "metadata": {
  "kernelspec": {
   "display_name": "Python 3",
   "language": "python",
   "name": "python3"
  },
  "language_info": {
   "codemirror_mode": {
    "name": "ipython",
    "version": 3
   },
   "file_extension": ".py",
   "mimetype": "text/x-python",
   "name": "python",
   "nbconvert_exporter": "python",
   "pygments_lexer": "ipython3",
   "version": "3.7.1"
  }
 },
 "nbformat": 4,
 "nbformat_minor": 2
}
